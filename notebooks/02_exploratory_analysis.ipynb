{
 "cells": [
  {
   "cell_type": "markdown",
   "metadata": {},
   "source": [
    "# 📈 Notebook 02: Exploratory Data Analysis\n",
    "\n",
    "**Solar Swarm Intelligence - IEEE PES Energy Utopia Challenge**\n",
    "\n",
    "This notebook performs comprehensive EDA:\n",
    "- Statistical analysis of energy patterns\n",
    "- Temporal patterns (daily, weekly, seasonal)\n",
    "- House-level comparisons\n",
    "- Correlation analysis\n",
    "- Energy balance analysis"
   ]
  },
  {
   "cell_type": "code",
   "execution_count": null,
   "metadata": {},
   "outputs": [],
   "source": [
    "import sys\n",
    "sys.path.append('..')\n",
    "\n",
    "import numpy as np\n",
    "import pandas as pd\n",
    "import matplotlib.pyplot as plt\n",
    "import seaborn as sns\n",
    "from scipy import stats\n",
    "import warnings\n",
    "warnings.filterwarnings('ignore')\n",
    "\n",
    "# Set style\n",
    "plt.style.use('seaborn-v0_8-whitegrid')\n",
    "sns.set_palette('Set2')\n",
    "%matplotlib inline\n",
    "\n",
    "# Set figure defaults\n",
    "plt.rcParams['figure.figsize'] = (12, 6)\n",
    "plt.rcParams['font.size'] = 11\n",
    "\n",
    "print(\" Libraries loaded\")"
   ]
  },
  {
   "cell_type": "markdown",
   "metadata": {},
   "source": [
    "## 1. Load Data"
   ]
  },
  {
   "cell_type": "code",
   "execution_count": null,
   "metadata": {},
   "outputs": [],
   "source": [
    "# Load datasets\n",
    "df = pd.read_csv('../data/processed/synthetic/community_90days.csv')\n",
    "profiles = pd.read_csv('../data/processed/synthetic/house_profiles.csv')\n",
    "\n",
    "# Convert timestamp\n",
    "df['timestamp'] = pd.to_datetime(df['timestamp'])\n",
    "df['hour'] = df['timestamp'].dt.hour\n",
    "df['day_of_week'] = df['timestamp'].dt.dayofweek\n",
    "df['day'] = df['timestamp'].dt.day\n",
    "df['month'] = df['timestamp'].dt.month\n",
    "\n",
    "print(f\" Dataset shape: {df.shape}\")\n",
    "print(f\" Date range: {df['timestamp'].min()} to {df['timestamp'].max()}\")\n",
    "print(f\" Number of houses: {df['house_id'].nunique()}\")\n",
    "print(f\"\\nFirst few rows:\")\n",
    "df.head()"
   ]
  },
  {
   "cell_type": "markdown",
   "metadata": {},
   "source": [
    "## 2. Overall Statistics"
   ]
  },
  {
   "cell_type": "code",
   "execution_count": null,
   "metadata": {},
   "outputs": [],
   "source": [
    "# Calculate key metrics\n",
    "total_production = df['production_kwh'].sum()\n",
    "total_consumption = df['consumption_kwh'].sum()\n",
    "net_balance = total_production - total_consumption\n",
    "self_sufficiency = (total_production / total_consumption) * 100\n",
    "\n",
    "print(\"=\"*60)\n",
    "print(\" COMMUNITY ENERGY STATISTICS (90 Days)\")\n",
    "print(\"=\"*60)\n",
    "print(f\"Total Solar Production:    {total_production:>15,.1f} kWh\")\n",
    "print(f\"Total Consumption:         {total_consumption:>15,.1f} kWh\")\n",
    "print(f\"Net Energy Balance:        {net_balance:>15,.1f} kWh\")\n",
    "print(f\"Self-Sufficiency Rate:     {self_sufficiency:>15.1f} %\")\n",
    "print(\"=\"*60)\n",
    "print(f\"\\nAverage Daily Production:  {total_production/90:>15,.1f} kWh\")\n",
    "print(f\"Average Daily Consumption: {total_consumption/90:>15,.1f} kWh\")\n",
    "print(f\"\\nPer House (90 days):\")\n",
    "print(f\"  Production:              {total_production/50:>15,.1f} kWh\")\n",
    "print(f\"  Consumption:             {total_consumption/50:>15,.1f} kWh\")\n",
    "print(\"=\"*60)"
   ]
  },
  {
   "cell_type": "markdown",
   "metadata": {},
   "source": [
    "## 3. Distribution Analysis"
   ]
  },
  {
   "cell_type": "code",
   "execution_count": null,
   "metadata": {},
   "outputs": [],
   "source": [
    "fig, axes = plt.subplots(2, 2, figsize=(15, 10))\n",
    "\n",
    "# Production distribution\n",
    "axes[0, 0].hist(df['production_kwh'], bins=50, edgecolor='black', alpha=0.7, color='orange')\n",
    "axes[0, 0].set_title('Solar Production Distribution', fontsize=14, fontweight='bold')\n",
    "axes[0, 0].set_xlabel('Production (kWh)')\n",
    "axes[0, 0].set_ylabel('Frequency')\n",
    "axes[0, 0].axvline(df['production_kwh'].mean(), color='red', linestyle='--', \n",
    "                   label=f'Mean: {df[\"production_kwh\"].mean():.2f}')\n",
    "axes[0, 0].legend()\n",
    "\n",
    "# Consumption distribution\n",
    "axes[0, 1].hist(df['consumption_kwh'], bins=50, edgecolor='black', alpha=0.7, color='blue')\n",
    "axes[0, 1].set_title('Consumption Distribution', fontsize=14, fontweight='bold')\n",
    "axes[0, 1].set_xlabel('Consumption (kWh)')\n",
    "axes[0, 1].set_ylabel('Frequency')\n",
    "axes[0, 1].axvline(df['consumption_kwh'].mean(), color='red', linestyle='--',\n",
    "                   label=f'Mean: {df[\"consumption_kwh\"].mean():.2f}')\n",
    "axes[0, 1].legend()\n",
    "\n",
    "# Temperature distribution\n",
    "axes[1, 0].hist(df['temperature_c'], bins=50, edgecolor='black', alpha=0.7, color='red')\n",
    "axes[1, 0].set_title('Temperature Distribution', fontsize=14, fontweight='bold')\n",
    "axes[1, 0].set_xlabel('Temperature (°C)')\n",
    "axes[1, 0].set_ylabel('Frequency')\n",
    "\n",
    "# Cloud cover distribution\n",
    "axes[1, 1].hist(df['cloud_cover_pct'], bins=50, edgecolor='black', alpha=0.7, color='gray')\n",
    "axes[1, 1].set_title('Cloud Cover Distribution', fontsize=14, fontweight='bold')\n",
    "axes[1, 1].set_xlabel('Cloud Cover (%)')\n",
    "axes[1, 1].set_ylabel('Frequency')\n",
    "\n",
    "plt.tight_layout()\n",
    "plt.show()"
   ]
  },
  {
   "cell_type": "markdown",
   "metadata": {},
   "source": [
    "## 4. Temporal Patterns - Hourly"
   ]
  },
  {
   "cell_type": "code",
   "execution_count": null,
   "metadata": {},
   "outputs": [],
   "source": [
    "# Aggregate by hour of day\n",
    "hourly_avg = df.groupby('hour').agg({\n",
    "    'production_kwh': 'mean',\n",
    "    'consumption_kwh': 'mean'\n",
    "}).reset_index()\n",
    "\n",
    "fig, ax = plt.subplots(figsize=(14, 6))\n",
    "\n",
    "ax.plot(hourly_avg['hour'], hourly_avg['production_kwh'], \n",
    "        marker='o', linewidth=3, markersize=8, label='Production', color='orange')\n",
    "ax.plot(hourly_avg['hour'], hourly_avg['consumption_kwh'], \n",
    "        marker='s', linewidth=3, markersize=8, label='Consumption', color='blue')\n",
    "\n",
    "ax.fill_between(hourly_avg['hour'], hourly_avg['production_kwh'], \n",
    "                hourly_avg['consumption_kwh'], alpha=0.2)\n",
    "\n",
    "ax.set_title('Average Hourly Energy Patterns', fontsize=16, fontweight='bold')\n",
    "ax.set_xlabel('Hour of Day', fontsize=13)\n",
    "ax.set_ylabel('Energy (kWh)', fontsize=13)\n",
    "ax.set_xticks(range(0, 24, 2))\n",
    "ax.legend(fontsize=12)\n",
    "ax.grid(True, alpha=0.3)\n",
    "\n",
    "plt.tight_layout()\n",
    "plt.show()\n",
    "\n",
    "# Print peak hours\n",
    "peak_prod_hour = hourly_avg.loc[hourly_avg['production_kwh'].idxmax(), 'hour']\n",
    "peak_cons_hour = hourly_avg.loc[hourly_avg['consumption_kwh'].idxmax(), 'hour']\n",
    "\n",
    "print(f\" Peak production hour: {int(peak_prod_hour)}:00\")\n",
    "print(f\" Peak consumption hour: {int(peak_cons_hour)}:00\")"
   ]
  },
  {
   "cell_type": "markdown",
   "metadata": {},
   "source": [
    "## 5. Day of Week Patterns"
   ]
  },
  {
   "cell_type": "code",
   "execution_count": null,
   "metadata": {},
   "outputs": [],
   "source": [
    "# Aggregate by day of week\n",
    "dow_avg = df.groupby('day_of_week').agg({\n",
    "    'production_kwh': 'mean',\n",
    "    'consumption_kwh': 'mean'\n",
    "}).reset_index()\n",
    "\n",
    "days = ['Monday', 'Tuesday', 'Wednesday', 'Thursday', 'Friday', 'Saturday', 'Sunday']\n",
    "dow_avg['day_name'] = [days[i] for i in dow_avg['day_of_week']]\n",
    "\n",
    "fig, ax = plt.subplots(figsize=(12, 6))\n",
    "\n",
    "x = np.arange(len(days))\n",
    "width = 0.35\n",
    "\n",
    "ax.bar(x - width/2, dow_avg['production_kwh'], width, label='Production', color='orange', alpha=0.8)\n",
    "ax.bar(x + width/2, dow_avg['consumption_kwh'], width, label='Consumption', color='blue', alpha=0.8)\n",
    "\n",
    "ax.set_title('Average Energy by Day of Week', fontsize=16, fontweight='bold')\n",
    "ax.set_xlabel('Day', fontsize=13)\n",
    "ax.set_ylabel('Energy (kWh)', fontsize=13)\n",
    "ax.set_xticks(x)\n",
    "ax.set_xticklabels(days, rotation=45)\n",
    "ax.legend(fontsize=12)\n",
    "ax.grid(True, alpha=0.3, axis='y')\n",
    "\n",
    "plt.tight_layout()\n",
    "plt.show()"
   ]
  },
  {
   "cell_type": "markdown",
   "metadata": {},
   "source": [
    "## 6. House-Level Comparison"
   ]
  },
  {
   "cell_type": "code",
   "execution_count": null,
   "metadata": {},
   "outputs": [],
   "source": [
    "# Aggregate by house\n",
    "house_totals = df.groupby('house_id').agg({\n",
    "    'production_kwh': 'sum',\n",
    "    'consumption_kwh': 'sum'\n",
    "}).reset_index()\n",
    "\n",
    "house_totals['net_balance'] = house_totals['production_kwh'] - house_totals['consumption_kwh']\n",
    "house_totals['self_sufficiency'] = (house_totals['production_kwh'] / house_totals['consumption_kwh']) * 100\n",
    "\n",
    "# Merge with profiles\n",
    "house_analysis = house_totals.merge(profiles, on='house_id')\n",
    "\n",
    "print(\" Top 5 Producers:\")\n",
    "print(house_analysis.nlargest(5, 'production_kwh')[['house_id', 'production_kwh', 'panel_capacity_kw']])\n",
    "\n",
    "print(\"\\n⚡ Top 5 Consumers:\")\n",
    "print(house_analysis.nlargest(5, 'consumption_kwh')[['house_id', 'consumption_kwh', 'consumption_type', 'has_ev']])"
   ]
  },
  {
   "cell_type": "code",
   "execution_count": null,
   "metadata": {},
   "outputs": [],
   "source": [
    "# Visualize house comparison\n",
    "fig, axes = plt.subplots(1, 2, figsize=(16, 6))\n",
    "\n",
    "# Production vs Consumption scatter\n",
    "axes[0].scatter(house_totals['consumption_kwh'], house_totals['production_kwh'], \n",
    "                s=100, alpha=0.6, c=house_totals['net_balance'], cmap='RdYlGn')\n",
    "axes[0].plot([house_totals['consumption_kwh'].min(), house_totals['consumption_kwh'].max()],\n",
    "             [house_totals['consumption_kwh'].min(), house_totals['consumption_kwh'].max()],\n",
    "             'r--', label='Balance Line')\n",
    "axes[0].set_title('Production vs Consumption by House', fontsize=14, fontweight='bold')\n",
    "axes[0].set_xlabel('Total Consumption (kWh)')\n",
    "axes[0].set_ylabel('Total Production (kWh)')\n",
    "axes[0].legend()\n",
    "axes[0].grid(True, alpha=0.3)\n",
    "\n",
    "# Self-sufficiency distribution\n",
    "axes[1].hist(house_totals['self_sufficiency'], bins=30, edgecolor='black', alpha=0.7, color='green')\n",
    "axes[1].axvline(100, color='red', linestyle='--', linewidth=2, label='100% Self-Sufficient')\n",
    "axes[1].set_title('Self-Sufficiency Distribution', fontsize=14, fontweight='bold')\n",
    "axes[1].set_xlabel('Self-Sufficiency (%)')\n",
    "axes[1].set_ylabel('Number of Houses')\n",
    "axes[1].legend()\n",
    "axes[1].grid(True, alpha=0.3)\n",
    "\n",
    "plt.tight_layout()\n",
    "plt.show()\n",
    "\n",
    "print(f\"\\n Houses with >100% self-sufficiency: {(house_totals['self_sufficiency'] > 100).sum()}\")\n",
    "print(f\" Average self-sufficiency: {house_totals['self_sufficiency'].mean():.1f}%\")"
   ]
  },
  {
   "cell_type": "markdown",
   "metadata": {},
   "source": [
    "## 7. Correlation Analysis"
   ]
  },
  {
   "cell_type": "code",
   "execution_count": null,
   "metadata": {},
   "outputs": [],
   "source": [
    "# Select numeric columns for correlation\n",
    "corr_cols = ['production_kwh', 'consumption_kwh', 'temperature_c', \n",
    "             'cloud_cover_pct', 'humidity_pct', 'wind_speed_kmh']\n",
    "corr_matrix = df[corr_cols].corr()\n",
    "\n",
    "# Plot correlation heatmap\n",
    "fig, ax = plt.subplots(figsize=(10, 8))\n",
    "sns.heatmap(corr_matrix, annot=True, fmt='.3f', cmap='coolwarm', \n",
    "            center=0, square=True, linewidths=1, cbar_kws={\"shrink\": 0.8})\n",
    "ax.set_title('Feature Correlation Matrix', fontsize=16, fontweight='bold', pad=20)\n",
    "plt.tight_layout()\n",
    "plt.show()\n",
    "\n",
    "print(\"\\n🔍 Key Correlations:\")\n",
    "print(f\"Production vs Temperature: {corr_matrix.loc['production_kwh', 'temperature_c']:.3f}\")\n",
    "print(f\"Production vs Cloud Cover: {corr_matrix.loc['production_kwh', 'cloud_cover_pct']:.3f}\")\n",
    "print(f\"Consumption vs Temperature: {corr_matrix.loc['consumption_kwh', 'temperature_c']:.3f}\")"
   ]
  },
  {
   "cell_type": "markdown",
   "metadata": {},
   "source": [
    "## 8. Energy Balance Analysis"
   ]
  },
  {
   "cell_type": "code",
   "execution_count": null,
   "metadata": {},
   "outputs": [],
   "source": [
    "# Calculate net energy for each timestamp\n",
    "community_hourly = df.groupby('timestamp').agg({\n",
    "    'production_kwh': 'sum',\n",
    "    'consumption_kwh': 'sum'\n",
    "}).reset_index()\n",
    "\n",
    "community_hourly['net_energy'] = community_hourly['production_kwh'] - community_hourly['consumption_kwh']\n",
    "community_hourly['surplus'] = community_hourly['net_energy'].apply(lambda x: max(0, x))\n",
    "community_hourly['deficit'] = community_hourly['net_energy'].apply(lambda x: abs(min(0, x)))\n",
    "\n",
    "total_surplus = community_hourly['surplus'].sum()\n",
    "total_deficit = community_hourly['deficit'].sum()\n",
    "\n",
    "print(\" ENERGY BALANCE ANALYSIS\")\n",
    "print(\"=\"*50)\n",
    "print(f\"Total Surplus Energy:  {total_surplus:>15,.1f} kWh\")\n",
    "print(f\"Total Deficit Energy:  {total_deficit:>15,.1f} kWh\")\n",
    "print(f\"Net Balance:           {total_surplus - total_deficit:>15,.1f} kWh\")\n",
    "print(\"=\"*50)\n",
    "print(f\"Hours with surplus:    {(community_hourly['net_energy'] > 0).sum()} ({(community_hourly['net_energy'] > 0).sum()/len(community_hourly)*100:.1f}%)\")\n",
    "print(f\"Hours with deficit:    {(community_hourly['net_energy'] < 0).sum()} ({(community_hourly['net_energy'] < 0).sum()/len(community_hourly)*100:.1f}%)\")\n",
    "print(\"=\"*50)"
   ]
  },
  {
   "cell_type": "code",
   "execution_count": null,
   "metadata": {},
   "outputs": [],
   "source": [
    "# Visualize energy balance over time\n",
    "fig, ax = plt.subplots(figsize=(15, 6))\n",
    "\n",
    "# Plot first 7 days\n",
    "week_data = community_hourly.iloc[:168]\n",
    "\n",
    "ax.fill_between(week_data['timestamp'], 0, week_data['net_energy'], \n",
    "                where=(week_data['net_energy'] >= 0), \n",
    "                color='green', alpha=0.5, label='Surplus')\n",
    "ax.fill_between(week_data['timestamp'], 0, week_data['net_energy'], \n",
    "                where=(week_data['net_energy'] < 0), \n",
    "                color='red', alpha=0.5, label='Deficit')\n",
    "ax.axhline(y=0, color='black', linestyle='-', linewidth=1)\n",
    "\n",
    "ax.set_title('Community Net Energy Balance (First Week)', fontsize=16, fontweight='bold')\n",
    "ax.set_xlabel('Time', fontsize=13)\n",
    "ax.set_ylabel('Net Energy (kWh)', fontsize=13)\n",
    "ax.legend(fontsize=12)\n",
    "ax.grid(True, alpha=0.3)\n",
    "\n",
    "plt.tight_layout()\n",
    "plt.show()"
   ]
  },
  {
   "cell_type": "markdown",
   "metadata": {},
   "source": [
    "## 9. Consumption Profile Analysis"
   ]
  },
  {
   "cell_type": "code",
   "execution_count": null,
   "metadata": {},
   "outputs": [],
   "source": [
    "# Analyze by consumption type\n",
    "consumption_analysis = df.merge(profiles[['house_id', 'consumption_type']], on='house_id')\n",
    "\n",
    "type_stats = consumption_analysis.groupby('consumption_type').agg({\n",
    "    'consumption_kwh': ['mean', 'std', 'sum'],\n",
    "    'production_kwh': ['mean', 'std', 'sum']\n",
    "}).round(2)\n",
    "\n",
    "print(\" CONSUMPTION PROFILE STATISTICS\")\n",
    "print(type_stats)\n",
    "\n",
    "# Box plot by consumption type\n",
    "fig, axes = plt.subplots(1, 2, figsize=(15, 6))\n",
    "\n",
    "consumption_analysis.boxplot(column='consumption_kwh', by='consumption_type', ax=axes[0])\n",
    "axes[0].set_title('Consumption by Profile Type', fontsize=14, fontweight='bold')\n",
    "axes[0].set_xlabel('Consumption Type')\n",
    "axes[0].set_ylabel('Consumption (kWh)')\n",
    "plt.sca(axes[0])\n",
    "plt.xticks(rotation=0)\n",
    "\n",
    "consumption_analysis.boxplot(column='production_kwh', by='consumption_type', ax=axes[1])\n",
    "axes[1].set_title('Production by Profile Type', fontsize=14, fontweight='bold')\n",
    "axes[1].set_xlabel('Consumption Type')\n",
    "axes[1].set_ylabel('Production (kWh)')\n",
    "plt.sca(axes[1])\n",
    "plt.xticks(rotation=0)\n",
    "\n",
    "plt.tight_layout()\n",
    "plt.show()"
   ]
  },
  {
   "cell_type": "markdown",
   "metadata": {},
   "source": [
    "## 10. Summary & Key Insights\n",
    "\n",
    "**Key Findings:**\n",
    "\n",
    "1. **Energy Balance**: The community shows strong potential for self-sufficiency\n",
    "2. **Temporal Patterns**: Clear daily and weekly patterns in both production and consumption\n",
    "3. **House Diversity**: Wide variation in energy profiles enables peer-to-peer sharing\n",
    "4. **Weather Impact**: Strong correlation between weather conditions and solar production\n",
    "5. **Peak Mismatch**: Production peaks at midday while consumption peaks in evening\n",
    "\n",
    "**Opportunities for Swarm Optimization:**\n",
    "- Battery storage to shift surplus from day to evening\n",
    "- Peer-to-peer energy sharing during deficit hours\n",
    "- Predictive load balancing based on weather forecasts\n",
    "- Coordinated charging/discharging across the community\n",
    "\n",
    "**Next Steps:**\n",
    "- Notebook 03: Build forecasting models (LSTM, Prophet)\n",
    "- Notebook 04: Implement anomaly detection\n",
    "- Notebook 05: Run multi-agent swarm simulation"
   ]
  }
 ],
 "metadata": {
  "kernelspec": {
   "display_name": "Python 3",
   "language": "python",
   "name": "python3"
  },
  "language_info": {
   "codemirror_mode": {
    "name": "ipython",
    "version": 3
   },
   "file_extension": ".py",
   "mimetype": "text/x-python",
   "name": "python",
   "nbconvert_exporter": "python",
   "pygments_lexer": "ipython3",
   "version": "3.10.0"
  }
 },
 "nbformat": 4,
 "nbformat_minor": 4
}
