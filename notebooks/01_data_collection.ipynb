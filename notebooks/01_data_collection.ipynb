{
 "cells": [
  {
   "cell_type": "markdown",
   "metadata": {},
   "source": [
    "# 📊 Notebook 01: Data Collection\n",
    "\n",
    "**Solar Swarm Intelligence - IEEE PES Energy Utopia Challenge**\n",
    "\n",
    "This notebook demonstrates:\n",
    "- Synthetic data generation for 50 households\n",
    "- 90 days of realistic solar production and consumption data\n",
    "- Weather data simulation\n",
    "- Data validation and quality checks"
   ]
  },
  {
   "cell_type": "code",
   "execution_count": null,
   "metadata": {},
   "outputs": [],
   "source": [
    "import sys\n",
    "sys.path.append('..')\n",
    "\n",
    "import numpy as np\n",
    "import pandas as pd\n",
    "import matplotlib.pyplot as plt\n",
    "import seaborn as sns\n",
    "from datetime import datetime, timedelta\n",
    "from pathlib import Path\n",
    "\n",
    "# Import our custom generator\n",
    "from src.data_collection.generate_synthetic import SyntheticDataGenerator\n",
    "\n",
    "# Set style\n",
    "plt.style.use('seaborn-v0_8-darkgrid')\n",
    "sns.set_palette('husl')\n",
    "%matplotlib inline\n",
    "\n",
    "print(\" Libraries imported successfully\")"
   ]
  },
  {
   "cell_type": "markdown",
   "metadata": {},
   "source": [
    "## 1. Initialize Data Generator\n",
    "\n",
    "We'll generate data for:\n",
    "- **50 households** (agents)\n",
    "- **90 days** of operation\n",
    "- **Hourly resolution** (2,160 data points per house)"
   ]
  },
  {
   "cell_type": "code",
   "execution_count": null,
   "metadata": {},
   "outputs": [],
   "source": [
    "# Configuration\n",
    "NUM_HOUSES = 50\n",
    "NUM_DAYS = 90\n",
    "RANDOM_SEED = 42\n",
    "\n",
    "# Initialize generator\n",
    "generator = SyntheticDataGenerator(\n",
    "    num_houses=NUM_HOUSES,\n",
    "    days=NUM_DAYS,\n",
    "    seed=RANDOM_SEED\n",
    ")\n",
    "\n",
    "print(f\" Configured for {NUM_HOUSES} houses\")\n",
    "print(f\" Simulation period: {NUM_DAYS} days\")\n",
    "print(f\" Total hours: {NUM_DAYS * 24}\")\n",
    "print(f\" Expected data points: {NUM_HOUSES * NUM_DAYS * 24:,}\")"
   ]
  },
  {
   "cell_type": "markdown",
   "metadata": {},
   "source": [
    "## 2. View House Profiles\n",
    "\n",
    "Each house has unique characteristics that affect energy patterns"
   ]
  },
  {
   "cell_type": "code",
   "execution_count": null,
   "metadata": {},
   "outputs": [],
   "source": [
    "# Display sample house profiles\n",
    "profiles_df = pd.DataFrame(generator.house_profiles)\n",
    "print(\"\\n Sample House Profiles:\")\n",
    "print(profiles_df.head(10))\n",
    "\n",
    "# Statistics\n",
    "print(\"\\n Profile Statistics:\")\n",
    "print(f\"Consumption types: {profiles_df['consumption_type'].value_counts().to_dict()}\")\n",
    "print(f\"Average panel capacity: {profiles_df['panel_capacity_kw'].mean():.2f} kW\")\n",
    "print(f\"Average battery capacity: {profiles_df['battery_capacity_kwh'].mean():.2f} kWh\")\n",
    "print(f\"Houses with EV: {profiles_df['has_ev'].sum()} ({profiles_df['has_ev'].sum()/len(profiles_df)*100:.1f}%)\")"
   ]
  },
  {
   "cell_type": "markdown",
   "metadata": {},
   "source": [
    "## 3. Generate Complete Dataset\n",
    "\n",
    "This creates realistic time-series data for all houses"
   ]
  },
  {
   "cell_type": "code",
   "execution_count": null,
   "metadata": {},
   "outputs": [],
   "source": [
    "# Generate the dataset\n",
    "print(\" Generating synthetic data...\\n\")\n",
    "df = generator.generate_dataset()\n",
    "\n",
    "print(\"\\n Data generation complete!\")\n",
    "print(f\"\\n Dataset shape: {df.shape}\")\n",
    "print(f\"Columns: {list(df.columns)}\")"
   ]
  },
  {
   "cell_type": "markdown",
   "metadata": {},
   "source": [
    "## 4. Data Quality Checks"
   ]
  },
  {
   "cell_type": "code",
   "execution_count": null,
   "metadata": {},
   "outputs": [],
   "source": [
    "# Check for missing values\n",
    "print(\" Missing Values:\")\n",
    "print(df.isnull().sum())\n",
    "\n",
    "# Data types\n",
    "print(\"\\n Data Types:\")\n",
    "print(df.dtypes)\n",
    "\n",
    "# Basic statistics\n",
    "print(\"\\n Statistical Summary:\")\n",
    "print(df.describe())"
   ]
  },
  {
   "cell_type": "markdown",
   "metadata": {},
   "source": [
    "## 5. Visualize Sample Data"
   ]
  },
  {
   "cell_type": "code",
   "execution_count": null,
   "metadata": {},
   "outputs": [],
   "source": [
    "# Select one house for detailed view\n",
    "house_0 = df[df['house_id'] == 0].copy()\n",
    "house_0['timestamp'] = pd.to_datetime(house_0['timestamp'])\n",
    "\n",
    "# Plot first week\n",
    "first_week = house_0.iloc[:168]  # 7 days * 24 hours\n",
    "\n",
    "fig, axes = plt.subplots(3, 1, figsize=(15, 10))\n",
    "\n",
    "# Production vs Consumption\n",
    "axes[0].plot(first_week['timestamp'], first_week['production_kwh'], label='Production', linewidth=2)\n",
    "axes[0].plot(first_week['timestamp'], first_week['consumption_kwh'], label='Consumption', linewidth=2)\n",
    "axes[0].set_title('House 0: Solar Production vs Consumption (First Week)', fontsize=14, fontweight='bold')\n",
    "axes[0].set_ylabel('Energy (kWh)')\n",
    "axes[0].legend()\n",
    "axes[0].grid(True, alpha=0.3)\n",
    "\n",
    "# Temperature\n",
    "axes[1].plot(first_week['timestamp'], first_week['temperature_c'], color='red', linewidth=2)\n",
    "axes[1].set_title('Temperature', fontsize=14, fontweight='bold')\n",
    "axes[1].set_ylabel('Temperature (°C)')\n",
    "axes[1].grid(True, alpha=0.3)\n",
    "\n",
    "# Cloud Cover\n",
    "axes[2].fill_between(first_week['timestamp'], first_week['cloud_cover_pct'], alpha=0.5, color='gray')\n",
    "axes[2].set_title('Cloud Cover', fontsize=14, fontweight='bold')\n",
    "axes[2].set_ylabel('Cloud Cover (%)')\n",
    "axes[2].set_xlabel('Time')\n",
    "axes[2].grid(True, alpha=0.3)\n",
    "\n",
    "plt.tight_layout()\n",
    "plt.show()\n",
    "\n",
    "print(\" Visualization complete\")"
   ]
  },
  {
   "cell_type": "markdown",
   "metadata": {},
   "source": [
    "## 6. Community-Level Analysis"
   ]
  },
  {
   "cell_type": "code",
   "execution_count": null,
   "metadata": {},
   "outputs": [],
   "source": [
    "# Aggregate by timestamp\n",
    "community_data = df.groupby('timestamp').agg({\n",
    "    'production_kwh': 'sum',\n",
    "    'consumption_kwh': 'sum',\n",
    "    'temperature_c': 'mean',\n",
    "    'cloud_cover_pct': 'mean'\n",
    "}).reset_index()\n",
    "\n",
    "community_data['net_energy'] = community_data['production_kwh'] - community_data['consumption_kwh']\n",
    "\n",
    "print(\" Community-Level Statistics:\")\n",
    "print(f\"Total production: {community_data['production_kwh'].sum():,.1f} kWh\")\n",
    "print(f\"Total consumption: {community_data['consumption_kwh'].sum():,.1f} kWh\")\n",
    "print(f\"Net balance: {community_data['net_energy'].sum():,.1f} kWh\")\n",
    "print(f\"Self-sufficiency: {(community_data['production_kwh'].sum() / community_data['consumption_kwh'].sum() * 100):.1f}%\")"
   ]
  },
  {
   "cell_type": "code",
   "execution_count": null,
   "metadata": {},
   "outputs": [],
   "source": [
    "# Visualize community patterns\n",
    "first_week_community = community_data.iloc[:168]\n",
    "\n",
    "fig, ax = plt.subplots(figsize=(15, 6))\n",
    "\n",
    "ax.plot(first_week_community['timestamp'], first_week_community['production_kwh'], \n",
    "        label='Total Production', linewidth=2.5, color='orange')\n",
    "ax.plot(first_week_community['timestamp'], first_week_community['consumption_kwh'], \n",
    "        label='Total Consumption', linewidth=2.5, color='blue')\n",
    "ax.fill_between(first_week_community['timestamp'], \n",
    "                first_week_community['net_energy'], \n",
    "                alpha=0.3, label='Net Energy', color='green')\n",
    "\n",
    "ax.set_title('Community Energy Profile (First Week)', fontsize=16, fontweight='bold')\n",
    "ax.set_xlabel('Time', fontsize=12)\n",
    "ax.set_ylabel('Energy (kWh)', fontsize=12)\n",
    "ax.legend(fontsize=11)\n",
    "ax.grid(True, alpha=0.3)\n",
    "\n",
    "plt.tight_layout()\n",
    "plt.show()"
   ]
  },
  {
   "cell_type": "markdown",
   "metadata": {},
   "source": [
    "## 7. Save Dataset"
   ]
  },
  {
   "cell_type": "code",
   "execution_count": null,
   "metadata": {},
   "outputs": [],
   "source": [
    "# Save to CSV\n",
    "output_path = '../data/processed/synthetic/community_90days.csv'\n",
    "Path(output_path).parent.mkdir(parents=True, exist_ok=True)\n",
    "\n",
    "df.to_csv(output_path, index=False)\n",
    "print(f\" Dataset saved to: {output_path}\")\n",
    "\n",
    "# Save house profiles\n",
    "profiles_path = '../data/processed/synthetic/house_profiles.csv'\n",
    "profiles_df.to_csv(profiles_path, index=False)\n",
    "print(f\" House profiles saved to: {profiles_path}\")\n",
    "\n",
    "# Save community aggregated data\n",
    "community_path = '../data/processed/synthetic/community_aggregated.csv'\n",
    "community_data.to_csv(community_path, index=False)\n",
    "print(f\" Community data saved to: {community_path}\")\n",
    "\n",
    "print(\"\\n All data saved successfully!\")"
   ]
  },
  {
   "cell_type": "markdown",
   "metadata": {},
   "source": [
    "## 8. Summary\n",
    "\n",
    "**Data Collection Complete! ✅**\n",
    "\n",
    "Generated:\n",
    "- **108,000** data points (50 houses × 90 days × 24 hours)\n",
    "- Realistic solar production patterns\n",
    "- Diverse consumption profiles (low/medium/high users)\n",
    "- Weather conditions (temperature, cloud cover, humidity, wind)\n",
    "- House characteristics (panel capacity, battery, EV ownership)\n",
    "\n",
    "**Next Steps:**\n",
    "- Notebook 02: Exploratory Data Analysis\n",
    "- Notebook 03: Solar Forecasting Models\n",
    "- Notebook 04: Anomaly Detection\n",
    "- Notebook 05: Swarm Simulation"
   ]
  }
 ],
 "metadata": {
  "kernelspec": {
   "display_name": "Python 3",
   "language": "python",
   "name": "python3"
  },
  "language_info": {
   "codemirror_mode": {
    "name": "ipython",
    "version": 3
   },
   "file_extension": ".py",
   "mimetype": "text/x-python",
   "name": "python",
   "nbconvert_exporter": "python",
   "pygments_lexer": "ipython3",
   "version": "3.10.0"
  }
 },
 "nbformat": 4,
 "nbformat_minor": 4
}
